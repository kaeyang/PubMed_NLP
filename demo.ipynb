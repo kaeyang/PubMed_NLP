{
 "cells": [
  {
   "cell_type": "code",
   "execution_count": 1,
   "metadata": {},
   "outputs": [],
   "source": [
    "from scrapper import *\n",
    "from retrieve import *"
   ]
  },
  {
   "attachments": {},
   "cell_type": "markdown",
   "metadata": {},
   "source": [
    "# Query and upload "
   ]
  },
  {
   "attachments": {},
   "cell_type": "markdown",
   "metadata": {},
   "source": [
    "The Airflow Dags file will run this daily"
   ]
  },
  {
   "cell_type": "code",
   "execution_count": 2,
   "metadata": {},
   "outputs": [],
   "source": [
    "search_list = [\"lung cancer\", \"diabetes\", \"pulmonary hypertension\", \"liver cirrhosis\", \"hypothyroidism\"]\n",
    "max_articles = 1\n",
    "gcs_path = 'data/'"
   ]
  },
  {
   "cell_type": "code",
   "execution_count": 3,
   "metadata": {},
   "outputs": [],
   "source": [
    "xml_extract_upload(med_email, search_list, max_articles, bucket_name, service_account_key_file, gcs_path)"
   ]
  },
  {
   "attachments": {},
   "cell_type": "markdown",
   "metadata": {},
   "source": [
    "# Extract and tokenize "
   ]
  },
  {
   "cell_type": "code",
   "execution_count": 4,
   "metadata": {},
   "outputs": [],
   "source": [
    "text_string = extract_xml(gcs_path,\"lung cancer\", \"AbstractText\" ,bucket_name, service_account_key_file)"
   ]
  },
  {
   "cell_type": "code",
   "execution_count": 5,
   "metadata": {},
   "outputs": [
    {
     "data": {
      "text/plain": [
       "['myeloid',\n",
       " 'derived',\n",
       " 'suppressor',\n",
       " 'cells',\n",
       " 'mdscs',\n",
       " 'key',\n",
       " 'determinants',\n",
       " 'immunosuppressive',\n",
       " 'microenvironment',\n",
       " 'tumors',\n",
       " 'ion',\n",
       " 'channels',\n",
       " 'play',\n",
       " 'key',\n",
       " 'roles',\n",
       " 'physiology',\n",
       " 'pathophysiology',\n",
       " 'immune',\n",
       " 'cells',\n",
       " 'aimed']"
      ]
     },
     "execution_count": 5,
     "metadata": {},
     "output_type": "execute_result"
    }
   ],
   "source": [
    "text_list = tokenize(text_string)\n",
    "text_list[:20]"
   ]
  }
 ],
 "metadata": {
  "kernelspec": {
   "display_name": "msds697",
   "language": "python",
   "name": "python3"
  },
  "language_info": {
   "codemirror_mode": {
    "name": "ipython",
    "version": 3
   },
   "file_extension": ".py",
   "mimetype": "text/x-python",
   "name": "python",
   "nbconvert_exporter": "python",
   "pygments_lexer": "ipython3",
   "version": "3.10.0"
  },
  "orig_nbformat": 4
 },
 "nbformat": 4,
 "nbformat_minor": 2
}
